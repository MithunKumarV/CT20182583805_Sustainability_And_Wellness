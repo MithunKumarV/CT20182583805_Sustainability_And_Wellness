{
 "cells": [
  {
   "cell_type": "code",
   "execution_count": 1,
   "metadata": {},
   "outputs": [],
   "source": [
    "import os\n",
    "import pandas as pd\n",
    "import numpy as np \n",
    "import pandas as pd\n",
    "import matplotlib.pyplot as plt\n",
    "import math"
   ]
  },
  {
   "cell_type": "code",
   "execution_count": 12,
   "metadata": {
    "scrolled": true
   },
   "outputs": [],
   "source": [
    "data_file = \"dataset.csv\"\n",
    "df = pd.read_csv(data_file, encoding='ISO-8859-1')\n"
   ]
  },
  {
   "cell_type": "code",
   "execution_count": 13,
   "metadata": {},
   "outputs": [
    {
     "data": {
      "text/html": [
       "<div>\n",
       "<style scoped>\n",
       "    .dataframe tbody tr th:only-of-type {\n",
       "        vertical-align: middle;\n",
       "    }\n",
       "\n",
       "    .dataframe tbody tr th {\n",
       "        vertical-align: top;\n",
       "    }\n",
       "\n",
       "    .dataframe thead th {\n",
       "        text-align: right;\n",
       "    }\n",
       "</style>\n",
       "<table border=\"1\" class=\"dataframe\">\n",
       "  <thead>\n",
       "    <tr style=\"text-align: right;\">\n",
       "      <th></th>\n",
       "      <th>EMP.ID</th>\n",
       "      <th>Oxgyen saturation</th>\n",
       "      <th>Heart Rate (bpm)</th>\n",
       "      <th>Glucose (mg/dL)</th>\n",
       "      <th>CORONARY HEART DISEASE  (mg/dL)</th>\n",
       "      <th>Asthma</th>\n",
       "      <th>Body Temperature (°C)</th>\n",
       "      <th>Label</th>\n",
       "    </tr>\n",
       "  </thead>\n",
       "  <tbody>\n",
       "    <tr>\n",
       "      <th>0</th>\n",
       "      <td>1</td>\n",
       "      <td>95</td>\n",
       "      <td>60</td>\n",
       "      <td>47</td>\n",
       "      <td>103</td>\n",
       "      <td>93</td>\n",
       "      <td>37.1°C</td>\n",
       "      <td>0</td>\n",
       "    </tr>\n",
       "    <tr>\n",
       "      <th>1</th>\n",
       "      <td>2</td>\n",
       "      <td>95</td>\n",
       "      <td>81</td>\n",
       "      <td>48</td>\n",
       "      <td>124</td>\n",
       "      <td>95</td>\n",
       "      <td>37.2°C</td>\n",
       "      <td>0</td>\n",
       "    </tr>\n",
       "    <tr>\n",
       "      <th>2</th>\n",
       "      <td>3</td>\n",
       "      <td>97</td>\n",
       "      <td>64</td>\n",
       "      <td>66</td>\n",
       "      <td>122</td>\n",
       "      <td>99</td>\n",
       "      <td>36.9°C</td>\n",
       "      <td>0</td>\n",
       "    </tr>\n",
       "    <tr>\n",
       "      <th>3</th>\n",
       "      <td>4</td>\n",
       "      <td>96</td>\n",
       "      <td>93</td>\n",
       "      <td>55</td>\n",
       "      <td>107</td>\n",
       "      <td>84</td>\n",
       "      <td>37.1°C</td>\n",
       "      <td>0</td>\n",
       "    </tr>\n",
       "    <tr>\n",
       "      <th>4</th>\n",
       "      <td>5</td>\n",
       "      <td>95</td>\n",
       "      <td>70</td>\n",
       "      <td>51</td>\n",
       "      <td>124</td>\n",
       "      <td>97</td>\n",
       "      <td>36.8°C</td>\n",
       "      <td>0</td>\n",
       "    </tr>\n",
       "  </tbody>\n",
       "</table>\n",
       "</div>"
      ],
      "text/plain": [
       "   EMP.ID  Oxgyen saturation  Heart Rate (bpm)  Glucose (mg/dL)  \\\n",
       "0       1                 95                60               47   \n",
       "1       2                 95                81               48   \n",
       "2       3                 97                64               66   \n",
       "3       4                 96                93               55   \n",
       "4       5                 95                70               51   \n",
       "\n",
       "   CORONARY HEART DISEASE  (mg/dL)  Asthma Body Temperature (°C)  Label  \n",
       "0                              103      93                37.1°C      0  \n",
       "1                              124      95                37.2°C      0  \n",
       "2                              122      99                36.9°C      0  \n",
       "3                              107      84                37.1°C      0  \n",
       "4                              124      97                36.8°C      0  "
      ]
     },
     "execution_count": 13,
     "metadata": {},
     "output_type": "execute_result"
    }
   ],
   "source": [
    "df.head()"
   ]
  },
  {
   "cell_type": "code",
   "execution_count": 5,
   "metadata": {},
   "outputs": [
    {
     "data": {
      "text/html": [
       "<div>\n",
       "<style scoped>\n",
       "    .dataframe tbody tr th:only-of-type {\n",
       "        vertical-align: middle;\n",
       "    }\n",
       "\n",
       "    .dataframe tbody tr th {\n",
       "        vertical-align: top;\n",
       "    }\n",
       "\n",
       "    .dataframe thead th {\n",
       "        text-align: right;\n",
       "    }\n",
       "</style>\n",
       "<table border=\"1\" class=\"dataframe\">\n",
       "  <thead>\n",
       "    <tr style=\"text-align: right;\">\n",
       "      <th></th>\n",
       "      <th>EMP.ID</th>\n",
       "      <th>Oxgyen saturation</th>\n",
       "      <th>Heart Rate (bpm)</th>\n",
       "      <th>Glucose (mg/dL)</th>\n",
       "      <th>CORONARY HEART DISEASE  (mg/dL)</th>\n",
       "      <th>Asthma</th>\n",
       "      <th>Body Temperature (°C)</th>\n",
       "      <th>Label</th>\n",
       "    </tr>\n",
       "  </thead>\n",
       "  <tbody>\n",
       "    <tr>\n",
       "      <th>0</th>\n",
       "      <td>1</td>\n",
       "      <td>95</td>\n",
       "      <td>60</td>\n",
       "      <td>47</td>\n",
       "      <td>103</td>\n",
       "      <td>93</td>\n",
       "      <td>37.1°C</td>\n",
       "      <td>0</td>\n",
       "    </tr>\n",
       "    <tr>\n",
       "      <th>1</th>\n",
       "      <td>2</td>\n",
       "      <td>95</td>\n",
       "      <td>81</td>\n",
       "      <td>48</td>\n",
       "      <td>124</td>\n",
       "      <td>95</td>\n",
       "      <td>37.2°C</td>\n",
       "      <td>0</td>\n",
       "    </tr>\n",
       "    <tr>\n",
       "      <th>2</th>\n",
       "      <td>3</td>\n",
       "      <td>97</td>\n",
       "      <td>64</td>\n",
       "      <td>66</td>\n",
       "      <td>122</td>\n",
       "      <td>99</td>\n",
       "      <td>36.9°C</td>\n",
       "      <td>0</td>\n",
       "    </tr>\n",
       "    <tr>\n",
       "      <th>3</th>\n",
       "      <td>4</td>\n",
       "      <td>96</td>\n",
       "      <td>93</td>\n",
       "      <td>55</td>\n",
       "      <td>107</td>\n",
       "      <td>84</td>\n",
       "      <td>37.1°C</td>\n",
       "      <td>0</td>\n",
       "    </tr>\n",
       "    <tr>\n",
       "      <th>4</th>\n",
       "      <td>5</td>\n",
       "      <td>95</td>\n",
       "      <td>70</td>\n",
       "      <td>51</td>\n",
       "      <td>124</td>\n",
       "      <td>97</td>\n",
       "      <td>36.8°C</td>\n",
       "      <td>0</td>\n",
       "    </tr>\n",
       "    <tr>\n",
       "      <th>...</th>\n",
       "      <td>...</td>\n",
       "      <td>...</td>\n",
       "      <td>...</td>\n",
       "      <td>...</td>\n",
       "      <td>...</td>\n",
       "      <td>...</td>\n",
       "      <td>...</td>\n",
       "      <td>...</td>\n",
       "    </tr>\n",
       "    <tr>\n",
       "      <th>3739</th>\n",
       "      <td>3740</td>\n",
       "      <td>80</td>\n",
       "      <td>146</td>\n",
       "      <td>207</td>\n",
       "      <td>45</td>\n",
       "      <td>41</td>\n",
       "      <td>40.2°C</td>\n",
       "      <td>1</td>\n",
       "    </tr>\n",
       "    <tr>\n",
       "      <th>3740</th>\n",
       "      <td>3741</td>\n",
       "      <td>52</td>\n",
       "      <td>153</td>\n",
       "      <td>391</td>\n",
       "      <td>48</td>\n",
       "      <td>47</td>\n",
       "      <td>39.5°C</td>\n",
       "      <td>1</td>\n",
       "    </tr>\n",
       "    <tr>\n",
       "      <th>3741</th>\n",
       "      <td>3742</td>\n",
       "      <td>85</td>\n",
       "      <td>140</td>\n",
       "      <td>217</td>\n",
       "      <td>68</td>\n",
       "      <td>43</td>\n",
       "      <td>40.5°C</td>\n",
       "      <td>1</td>\n",
       "    </tr>\n",
       "    <tr>\n",
       "      <th>3742</th>\n",
       "      <td>3743</td>\n",
       "      <td>89</td>\n",
       "      <td>164</td>\n",
       "      <td>383</td>\n",
       "      <td>51</td>\n",
       "      <td>40</td>\n",
       "      <td>39.1°C</td>\n",
       "      <td>1</td>\n",
       "    </tr>\n",
       "    <tr>\n",
       "      <th>3743</th>\n",
       "      <td>3744</td>\n",
       "      <td>72</td>\n",
       "      <td>161</td>\n",
       "      <td>293</td>\n",
       "      <td>27</td>\n",
       "      <td>52</td>\n",
       "      <td>39.8°C</td>\n",
       "      <td>1</td>\n",
       "    </tr>\n",
       "  </tbody>\n",
       "</table>\n",
       "<p>3744 rows × 8 columns</p>\n",
       "</div>"
      ],
      "text/plain": [
       "      EMP.ID  Oxgyen saturation  Heart Rate (bpm)  Glucose (mg/dL)  \\\n",
       "0          1                 95                60               47   \n",
       "1          2                 95                81               48   \n",
       "2          3                 97                64               66   \n",
       "3          4                 96                93               55   \n",
       "4          5                 95                70               51   \n",
       "...      ...                ...               ...              ...   \n",
       "3739    3740                 80               146              207   \n",
       "3740    3741                 52               153              391   \n",
       "3741    3742                 85               140              217   \n",
       "3742    3743                 89               164              383   \n",
       "3743    3744                 72               161              293   \n",
       "\n",
       "      CORONARY HEART DISEASE  (mg/dL)  Asthma Body Temperature (°C)  Label  \n",
       "0                                 103      93                37.1°C      0  \n",
       "1                                 124      95                37.2°C      0  \n",
       "2                                 122      99                36.9°C      0  \n",
       "3                                 107      84                37.1°C      0  \n",
       "4                                 124      97                36.8°C      0  \n",
       "...                               ...     ...                   ...    ...  \n",
       "3739                               45      41                40.2°C      1  \n",
       "3740                               48      47                39.5°C      1  \n",
       "3741                               68      43                40.5°C      1  \n",
       "3742                               51      40                39.1°C      1  \n",
       "3743                               27      52                39.8°C      1  \n",
       "\n",
       "[3744 rows x 8 columns]"
      ]
     },
     "execution_count": 5,
     "metadata": {},
     "output_type": "execute_result"
    }
   ],
   "source": [
    "df"
   ]
  },
  {
   "cell_type": "code",
   "execution_count": 14,
   "metadata": {},
   "outputs": [],
   "source": [
    "df = df.drop(['Label'],axis=1)"
   ]
  },
  {
   "cell_type": "code",
   "execution_count": 7,
   "metadata": {},
   "outputs": [
    {
     "data": {
      "text/html": [
       "<div>\n",
       "<style scoped>\n",
       "    .dataframe tbody tr th:only-of-type {\n",
       "        vertical-align: middle;\n",
       "    }\n",
       "\n",
       "    .dataframe tbody tr th {\n",
       "        vertical-align: top;\n",
       "    }\n",
       "\n",
       "    .dataframe thead th {\n",
       "        text-align: right;\n",
       "    }\n",
       "</style>\n",
       "<table border=\"1\" class=\"dataframe\">\n",
       "  <thead>\n",
       "    <tr style=\"text-align: right;\">\n",
       "      <th></th>\n",
       "      <th>EMP.ID</th>\n",
       "      <th>Oxgyen saturation</th>\n",
       "      <th>Heart Rate (bpm)</th>\n",
       "      <th>Glucose (mg/dL)</th>\n",
       "      <th>CORONARY HEART DISEASE  (mg/dL)</th>\n",
       "      <th>Asthma</th>\n",
       "      <th>Body Temperature (°C)</th>\n",
       "    </tr>\n",
       "  </thead>\n",
       "  <tbody>\n",
       "    <tr>\n",
       "      <th>0</th>\n",
       "      <td>1</td>\n",
       "      <td>95</td>\n",
       "      <td>60</td>\n",
       "      <td>47</td>\n",
       "      <td>103</td>\n",
       "      <td>93</td>\n",
       "      <td>37.1°C</td>\n",
       "    </tr>\n",
       "    <tr>\n",
       "      <th>1</th>\n",
       "      <td>2</td>\n",
       "      <td>95</td>\n",
       "      <td>81</td>\n",
       "      <td>48</td>\n",
       "      <td>124</td>\n",
       "      <td>95</td>\n",
       "      <td>37.2°C</td>\n",
       "    </tr>\n",
       "    <tr>\n",
       "      <th>2</th>\n",
       "      <td>3</td>\n",
       "      <td>97</td>\n",
       "      <td>64</td>\n",
       "      <td>66</td>\n",
       "      <td>122</td>\n",
       "      <td>99</td>\n",
       "      <td>36.9°C</td>\n",
       "    </tr>\n",
       "    <tr>\n",
       "      <th>3</th>\n",
       "      <td>4</td>\n",
       "      <td>96</td>\n",
       "      <td>93</td>\n",
       "      <td>55</td>\n",
       "      <td>107</td>\n",
       "      <td>84</td>\n",
       "      <td>37.1°C</td>\n",
       "    </tr>\n",
       "    <tr>\n",
       "      <th>4</th>\n",
       "      <td>5</td>\n",
       "      <td>95</td>\n",
       "      <td>70</td>\n",
       "      <td>51</td>\n",
       "      <td>124</td>\n",
       "      <td>97</td>\n",
       "      <td>36.8°C</td>\n",
       "    </tr>\n",
       "    <tr>\n",
       "      <th>...</th>\n",
       "      <td>...</td>\n",
       "      <td>...</td>\n",
       "      <td>...</td>\n",
       "      <td>...</td>\n",
       "      <td>...</td>\n",
       "      <td>...</td>\n",
       "      <td>...</td>\n",
       "    </tr>\n",
       "    <tr>\n",
       "      <th>3739</th>\n",
       "      <td>3740</td>\n",
       "      <td>80</td>\n",
       "      <td>146</td>\n",
       "      <td>207</td>\n",
       "      <td>45</td>\n",
       "      <td>41</td>\n",
       "      <td>40.2°C</td>\n",
       "    </tr>\n",
       "    <tr>\n",
       "      <th>3740</th>\n",
       "      <td>3741</td>\n",
       "      <td>52</td>\n",
       "      <td>153</td>\n",
       "      <td>391</td>\n",
       "      <td>48</td>\n",
       "      <td>47</td>\n",
       "      <td>39.5°C</td>\n",
       "    </tr>\n",
       "    <tr>\n",
       "      <th>3741</th>\n",
       "      <td>3742</td>\n",
       "      <td>85</td>\n",
       "      <td>140</td>\n",
       "      <td>217</td>\n",
       "      <td>68</td>\n",
       "      <td>43</td>\n",
       "      <td>40.5°C</td>\n",
       "    </tr>\n",
       "    <tr>\n",
       "      <th>3742</th>\n",
       "      <td>3743</td>\n",
       "      <td>89</td>\n",
       "      <td>164</td>\n",
       "      <td>383</td>\n",
       "      <td>51</td>\n",
       "      <td>40</td>\n",
       "      <td>39.1°C</td>\n",
       "    </tr>\n",
       "    <tr>\n",
       "      <th>3743</th>\n",
       "      <td>3744</td>\n",
       "      <td>72</td>\n",
       "      <td>161</td>\n",
       "      <td>293</td>\n",
       "      <td>27</td>\n",
       "      <td>52</td>\n",
       "      <td>39.8°C</td>\n",
       "    </tr>\n",
       "  </tbody>\n",
       "</table>\n",
       "<p>3744 rows × 7 columns</p>\n",
       "</div>"
      ],
      "text/plain": [
       "      EMP.ID  Oxgyen saturation  Heart Rate (bpm)  Glucose (mg/dL)  \\\n",
       "0          1                 95                60               47   \n",
       "1          2                 95                81               48   \n",
       "2          3                 97                64               66   \n",
       "3          4                 96                93               55   \n",
       "4          5                 95                70               51   \n",
       "...      ...                ...               ...              ...   \n",
       "3739    3740                 80               146              207   \n",
       "3740    3741                 52               153              391   \n",
       "3741    3742                 85               140              217   \n",
       "3742    3743                 89               164              383   \n",
       "3743    3744                 72               161              293   \n",
       "\n",
       "      CORONARY HEART DISEASE  (mg/dL)  Asthma Body Temperature (°C)  \n",
       "0                                 103      93                37.1°C  \n",
       "1                                 124      95                37.2°C  \n",
       "2                                 122      99                36.9°C  \n",
       "3                                 107      84                37.1°C  \n",
       "4                                 124      97                36.8°C  \n",
       "...                               ...     ...                   ...  \n",
       "3739                               45      41                40.2°C  \n",
       "3740                               48      47                39.5°C  \n",
       "3741                               68      43                40.5°C  \n",
       "3742                               51      40                39.1°C  \n",
       "3743                               27      52                39.8°C  \n",
       "\n",
       "[3744 rows x 7 columns]"
      ]
     },
     "execution_count": 7,
     "metadata": {},
     "output_type": "execute_result"
    }
   ],
   "source": [
    "df"
   ]
  },
  {
   "cell_type": "code",
   "execution_count": 15,
   "metadata": {},
   "outputs": [
    {
     "name": "stdout",
     "output_type": "stream",
     "text": [
      "Index(['EMP.ID', 'Oxgyen saturation', 'Heart Rate (bpm)', 'Glucose (mg/dL)',\n",
      "       'CORONARY HEART DISEASE  (mg/dL)', 'Asthma', 'Body Temperature (°C)'],\n",
      "      dtype='object')\n"
     ]
    },
    {
     "data": {
      "text/plain": [
       "array([[1, 95, 60, ..., 103, 93, '37.1°C'],\n",
       "       [2, 95, 81, ..., 124, 95, '37.2°C'],\n",
       "       [3, 97, 64, ..., 122, 99, '36.9°C'],\n",
       "       ...,\n",
       "       [3742, 85, 140, ..., 68, 43, '40.5°C'],\n",
       "       [3743, 89, 164, ..., 51, 40, '39.1°C'],\n",
       "       [3744, 72, 161, ..., 27, 52, '39.8°C']], dtype=object)"
      ]
     },
     "execution_count": 15,
     "metadata": {},
     "output_type": "execute_result"
    }
   ],
   "source": [
    "X = df\n",
    "X.replace('?', 0)\n",
    "print(X.columns)\n",
    "X = np.array(X)\n",
    "X"
   ]
  },
  {
   "cell_type": "code",
   "execution_count": 16,
   "metadata": {},
   "outputs": [],
   "source": [
    "def create_data(x, look_back=1):\n",
    "    dataX, datay = [], []\n",
    "    for i in range(3000):\n",
    "        a = X[i:i + look_back,1]\n",
    "        dataX.append(a)\n",
    "        datay.append(X[i + look_back,1])\n",
    "    return np.array(dataX), np.array(datay)\n"
   ]
  },
  {
   "cell_type": "code",
   "execution_count": 17,
   "metadata": {},
   "outputs": [],
   "source": [
    "X, Y = create_data(X, look_back=100 )"
   ]
  },
  {
   "cell_type": "code",
   "execution_count": 18,
   "metadata": {},
   "outputs": [
    {
     "name": "stdout",
     "output_type": "stream",
     "text": [
      "[[95 95 97 ... 98 97 95]\n",
      " [95 97 96 ... 97 95 96]\n",
      " [97 96 95 ... 95 96 98]\n",
      " ...\n",
      " [33 28 20 ... 77 51 72]\n",
      " [28 20 53 ... 51 72 38]\n",
      " [20 53 26 ... 72 38 85]]\n"
     ]
    }
   ],
   "source": [
    "print(X)"
   ]
  },
  {
   "cell_type": "code",
   "execution_count": 30,
   "metadata": {},
   "outputs": [
    {
     "name": "stdout",
     "output_type": "stream",
     "text": [
      "[96 98 97 ... 38 85 83]\n"
     ]
    }
   ],
   "source": [
    "print(Y)"
   ]
  },
  {
   "cell_type": "code",
   "execution_count": 31,
   "metadata": {},
   "outputs": [
    {
     "name": "stdout",
     "output_type": "stream",
     "text": [
      "(3000, 100)\n"
     ]
    }
   ],
   "source": [
    "X = np.reshape(X, (X.shape[0], X.shape[1]))\n",
    "#Xout = np.reshape(X, ( 1, X.shape[0]))\n",
    "print(X.shape)"
   ]
  },
  {
   "cell_type": "code",
   "execution_count": 32,
   "metadata": {},
   "outputs": [],
   "source": [
    "from sklearn import svm\n"
   ]
  },
  {
   "cell_type": "code",
   "execution_count": 33,
   "metadata": {},
   "outputs": [],
   "source": [
    "#from sklearn.model_selection import cross_validate\n",
    "from sklearn.model_selection import train_test_split"
   ]
  },
  {
   "cell_type": "code",
   "execution_count": 34,
   "metadata": {},
   "outputs": [],
   "source": [
    "x_train,x_test,y_train,y_test=train_test_split(X,Y,test_size=0.2)"
   ]
  },
  {
   "cell_type": "code",
   "execution_count": 35,
   "metadata": {},
   "outputs": [
    {
     "name": "stdout",
     "output_type": "stream",
     "text": [
      "[81, 45, 78, 35, 97, 28, 96, 49, 98, 96, 48, 97, 81, 97, 34, 98, 35, 95, 81, 68, 23, 98, 95, 41, 77, 41, 88, 73, 95, 56, 42, 97, 40, 98, 47, 97, 97, 98, 97, 20, 95, 98, 53, 96, 34, 52, 39, 97, 69, 98, 98, 84, 40, 96, 53, 95, 96, 63, 96, 95, 96, 29, 40, 72, 97, 83, 95, 95, 97, 95, 98, 95, 97, 97, 96, 96, 70, 95, 38, 62, 66, 96, 95, 68, 40, 47, 95, 98, 97, 97, 98, 95, 97, 83, 96, 98, 61, 95, 87, 84, 96, 96, 84, 95, 95, 62, 95, 95, 97, 95, 30, 98, 20, 95, 49, 53, 98, 69, 64, 24, 97, 97, 24, 98, 97, 95, 95, 98, 84, 23, 97, 95, 97, 97, 96, 34, 62, 97, 96, 98, 95, 96, 54, 22, 26, 96, 30, 98, 74, 98, 20, 98, 98, 84, 97, 62, 95, 98, 32, 40, 96, 98, 95, 50, 95, 59, 95, 98, 96, 96, 57, 96, 32, 23, 96, 22, 98, 98, 98, 26, 65, 96, 97, 75, 96, 73, 77, 69, 30, 95, 97, 77, 20, 97, 45, 95, 39, 88, 95, 98, 97, 96, 98, 98, 54, 97, 72, 97, 21, 98, 98, 96, 98, 72, 82, 97, 67, 56, 98, 98, 86, 80, 43, 98, 95, 82, 71, 96, 97, 97, 98, 96, 96, 97, 97, 43, 59, 98, 24, 98, 96, 98, 98, 49, 97, 98, 98, 97, 98, 98, 95, 76, 67, 41, 97, 43, 86, 28, 98, 23, 98, 49, 96, 61, 95, 95, 96, 98, 98, 27, 98, 96, 95, 95, 98, 79, 50, 71, 64, 97, 97, 96, 96, 60, 96, 35, 95, 96, 97, 98, 98, 97, 98, 60, 98, 95, 24, 54, 95, 75, 37, 95, 97, 95, 97, 47, 95, 88, 33, 96, 95, 98, 82, 97, 96, 29, 97, 97, 52, 98, 96, 48, 97, 97, 97, 96, 96, 98, 39, 97, 67, 42, 97, 96, 46, 96, 67, 97, 97, 97, 96, 98, 96, 78, 95, 66, 40, 45, 97, 30, 53, 26, 97, 54, 97, 97, 38, 70, 98, 35, 96, 83, 83, 51, 96, 95, 95, 96, 26, 96, 97, 97, 97, 96, 95, 98, 95, 49, 96, 97, 95, 97, 28, 78, 47, 80, 96, 97, 28, 95, 28, 95, 54, 96, 84, 98, 98, 96, 23, 96, 95, 95, 98, 96, 97, 98, 98, 96, 98, 98, 95, 95, 87, 76, 27, 98, 57, 98, 95, 31, 97, 98, 96, 87, 31, 98, 71, 70, 55, 46, 41, 87, 97, 96, 98, 33, 95, 96, 23, 68, 96, 95, 28, 98, 22, 95, 95, 95, 46, 95, 96, 98, 63, 97, 98, 97, 96, 98, 95, 74, 98, 49, 54, 96, 96, 54, 96, 37, 98, 68, 85, 96, 97, 71, 96, 97, 96, 95, 56, 95, 98, 21, 83, 98, 97, 80, 59, 95, 56, 97, 98, 89, 98, 97, 57, 52, 61, 95, 98, 77, 97, 98, 51, 98, 96, 95, 96, 48, 96, 87, 97, 39, 95, 97, 89, 95, 40, 67, 42, 30, 96, 68, 74, 95, 66, 43, 30, 97, 88, 55, 41, 98, 98, 96, 97, 98, 95, 95, 97, 35, 46, 97, 95, 56, 82, 39, 97, 95, 95, 68, 96, 98, 97, 97, 45, 95, 52, 52, 98, 70, 95, 86, 98, 44, 78, 98, 97, 76, 48, 36, 96, 98, 96, 27, 89, 39, 73, 97, 26, 97, 95, 95, 35, 28, 95, 98, 96, 95, 45, 80, 21, 96, 84, 58, 95, 96, 95, 97, 95, 98]\n",
      "[56, 53, 54, 67, 96, 52, 96, 53, 96, 96, 65, 96, 55, 96, 53, 96, 48, 96, 56, 51, 52, 96, 96, 54, 55, 51, 55, 66, 96, 55, 51, 96, 52, 96, 53, 96, 96, 96, 96, 75, 96, 96, 52, 96, 52, 52, 51, 96, 53, 96, 96, 53, 52, 96, 53, 96, 96, 52, 96, 96, 96, 53, 53, 56, 96, 50, 96, 96, 96, 96, 96, 96, 96, 96, 96, 96, 55, 96, 54, 53, 52, 96, 96, 95, 51, 53, 96, 96, 96, 96, 96, 96, 96, 53, 96, 96, 56, 96, 52, 52, 96, 96, 56, 96, 96, 53, 96, 96, 96, 96, 52, 96, 51, 96, 58, 53, 96, 61, 56, 53, 96, 96, 52, 96, 96, 96, 96, 96, 54, 52, 96, 96, 96, 96, 96, 53, 51, 96, 96, 96, 96, 96, 52, 52, 52, 96, 50, 96, 55, 96, 53, 96, 96, 55, 96, 55, 96, 96, 51, 54, 96, 96, 96, 51, 96, 54, 96, 96, 96, 96, 64, 96, 52, 52, 96, 52, 96, 96, 96, 53, 52, 96, 96, 53, 96, 53, 52, 53, 52, 96, 96, 55, 52, 96, 92, 96, 52, 53, 96, 96, 96, 96, 96, 96, 63, 96, 56, 96, 52, 96, 96, 96, 96, 56, 52, 96, 55, 54, 96, 96, 55, 55, 54, 96, 96, 54, 55, 96, 96, 96, 96, 96, 96, 96, 96, 53, 73, 96, 53, 96, 96, 96, 96, 79, 96, 96, 96, 96, 96, 96, 96, 53, 55, 54, 96, 54, 55, 54, 96, 52, 96, 51, 96, 54, 96, 96, 96, 96, 96, 54, 96, 96, 96, 96, 96, 54, 50, 52, 53, 96, 96, 96, 96, 53, 96, 52, 96, 96, 96, 96, 96, 96, 96, 52, 96, 96, 52, 53, 96, 53, 51, 96, 96, 96, 96, 51, 96, 53, 52, 96, 96, 96, 56, 96, 96, 54, 96, 96, 55, 96, 96, 53, 96, 96, 96, 96, 96, 96, 51, 96, 54, 53, 96, 96, 55, 96, 55, 96, 96, 96, 96, 96, 96, 54, 96, 52, 51, 53, 96, 53, 53, 53, 96, 52, 96, 96, 52, 53, 96, 52, 96, 52, 53, 52, 96, 96, 96, 96, 52, 96, 96, 96, 96, 96, 96, 96, 96, 54, 96, 96, 96, 96, 52, 54, 51, 53, 96, 96, 50, 96, 51, 96, 52, 96, 54, 96, 96, 96, 52, 96, 96, 96, 96, 96, 96, 96, 96, 96, 96, 96, 96, 96, 55, 56, 51, 96, 55, 96, 96, 53, 96, 96, 96, 52, 53, 96, 52, 53, 55, 54, 54, 58, 96, 96, 96, 52, 96, 96, 52, 53, 96, 96, 53, 96, 51, 96, 96, 96, 52, 96, 96, 96, 52, 96, 96, 96, 96, 96, 96, 51, 96, 52, 54, 96, 96, 52, 96, 52, 96, 56, 53, 96, 96, 52, 96, 96, 96, 96, 63, 96, 96, 50, 52, 96, 96, 64, 54, 96, 54, 96, 96, 53, 96, 96, 55, 55, 54, 96, 96, 52, 96, 96, 54, 96, 96, 96, 96, 52, 96, 55, 96, 51, 96, 96, 54, 96, 54, 53, 50, 51, 96, 53, 54, 96, 52, 52, 51, 96, 56, 55, 53, 96, 96, 96, 96, 96, 96, 96, 96, 51, 54, 96, 96, 55, 52, 49, 96, 96, 96, 56, 96, 96, 96, 96, 53, 96, 52, 52, 96, 54, 96, 55, 96, 54, 54, 96, 96, 54, 52, 53, 96, 96, 96, 50, 53, 51, 85, 96, 52, 96, 96, 96, 56, 53, 96, 96, 96, 96, 53, 54, 52, 96, 53, 55, 96, 96, 96, 96, 96, 96]\n"
     ]
    }
   ],
   "source": [
    "clf=svm.SVR()\n",
    "\n",
    "clf.fit(x_train,y_train)\n",
    "\n",
    "test=clf.predict(x_test)\n",
    "#print(test)\n",
    "y_test = [int(float(x)) for x in y_test]\n",
    "print(y_test)\n",
    "pred = [int(x) for x in test]\n",
    "print(pred)"
   ]
  },
  {
   "cell_type": "code",
   "execution_count": 36,
   "metadata": {},
   "outputs": [
    {
     "data": {
      "text/plain": [
       "array([[ 0,  0,  0, ...,  0,  0,  0],\n",
       "       [ 0,  0,  0, ...,  0,  0,  0],\n",
       "       [ 0,  0,  0, ...,  0,  0,  0],\n",
       "       ...,\n",
       "       [ 0,  0,  0, ..., 81,  0,  0],\n",
       "       [ 0,  0,  0, ..., 89,  0,  0],\n",
       "       [ 0,  0,  0, ..., 96,  0,  0]], dtype=int64)"
      ]
     },
     "execution_count": 36,
     "metadata": {},
     "output_type": "execute_result"
    }
   ],
   "source": [
    "from sklearn.metrics import confusion_matrix\n",
    "confusion_matrix(y_test, pred)\n"
   ]
  },
  {
   "cell_type": "code",
   "execution_count": 37,
   "metadata": {},
   "outputs": [
    {
     "name": "stdout",
     "output_type": "stream",
     "text": [
      "99.84833333333333\n"
     ]
    }
   ],
   "source": [
    "from sklearn.metrics import accuracy_score\n",
    "accuracy = accuracy_score(y_test, pred)\n",
    "print(100-accuracy)"
   ]
  },
  {
   "cell_type": "code",
   "execution_count": null,
   "metadata": {},
   "outputs": [],
   "source": []
  },
  {
   "cell_type": "code",
   "execution_count": null,
   "metadata": {},
   "outputs": [],
   "source": []
  }
 ],
 "metadata": {
  "kernelspec": {
   "display_name": "Python 3",
   "language": "python",
   "name": "python3"
  },
  "language_info": {
   "codemirror_mode": {
    "name": "ipython",
    "version": 3
   },
   "file_extension": ".py",
   "mimetype": "text/x-python",
   "name": "python",
   "nbconvert_exporter": "python",
   "pygments_lexer": "ipython3",
   "version": "3.8.5"
  }
 },
 "nbformat": 4,
 "nbformat_minor": 4
}
